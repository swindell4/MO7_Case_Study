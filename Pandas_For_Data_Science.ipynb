{
 "cells": [
  {
   "cell_type": "code",
   "execution_count": 9,
   "id": "46bf5747-fcb8-4cb3-aa13-3da7af01d3ad",
   "metadata": {
    "collapsed": true,
    "jupyter": {
     "outputs_hidden": true
    },
    "scrolled": true
   },
   "outputs": [
    {
     "ename": "AttributeError",
     "evalue": "module 'pandas' has no attribute 'read_CSV'",
     "output_type": "error",
     "traceback": [
      "\u001b[1;31m---------------------------------------------------------------------------\u001b[0m",
      "\u001b[1;31mAttributeError\u001b[0m                            Traceback (most recent call last)",
      "Cell \u001b[1;32mIn[9], line 3\u001b[0m\n\u001b[0;32m      1\u001b[0m \u001b[38;5;28;01mimport\u001b[39;00m \u001b[38;5;21;01mpandas\u001b[39;00m \n\u001b[1;32m----> 3\u001b[0m dataFrame \u001b[38;5;241m=\u001b[39m pandas\u001b[38;5;241m.\u001b[39mread_CSV(\u001b[38;5;124m\"\u001b[39m\u001b[38;5;124mtelco_churn.csv\u001b[39m\u001b[38;5;124m\"\u001b[39m) \n\u001b[0;32m      5\u001b[0m dictionary \u001b[38;5;241m=\u001b[39m {\u001b[38;5;124m\"\u001b[39m\u001b[38;5;124mRed\u001b[39m\u001b[38;5;124m\"\u001b[39m:\u001b[38;5;124m\"\u001b[39m\u001b[38;5;124mstop\u001b[39m\u001b[38;5;124m\"\u001b[39m, \u001b[38;5;124m\"\u001b[39m\u001b[38;5;124mYellow\u001b[39m\u001b[38;5;124m\"\u001b[39m:\u001b[38;5;124m\"\u001b[39m\u001b[38;5;124msunset\u001b[39m\u001b[38;5;124m\"\u001b[39m} \n\u001b[0;32m      6\u001b[0m dictionaryDataFrame \u001b[38;5;241m=\u001b[39m pandas\u001b[38;5;241m.\u001b[39mDataFrame\u001b[38;5;241m.\u001b[39mfrom_dict(dictionary) \n",
      "\u001b[1;31mAttributeError\u001b[0m: module 'pandas' has no attribute 'read_CSV'"
     ]
    }
   ],
   "source": [
    "import pandas \n",
    "\n",
    "dataFrame = pandas.read_CSV(\"telco_churn.csv\") \n",
    "\n",
    "dictionary = {\"Red\":\"stop\", \"Yellow\":\"sunset\"} \n",
    "dictionaryDataFrame = pandas.DataFrame.from_dict(dictionary) \n",
    "\n",
    "head = dataFrame.head() \n",
    "tail = fataFrame.tail() \n",
    "\n",
    "columns = dataFrame.columns \n",
    "dataTypes = dataFrame.dTypes \n",
    "summaryStatistics = dataFrame.describe() #int and float only \n",
    "summaryStatisticsWithObjects = dataFrame.describe(include = \"object\") #int float and objects \n",
    "\n",
    "singleWordColumn = dataFrame.State \n",
    "multipleWordColumn = dataFrame.[\"International Plan\"] \n",
    "multipleColumn = dataFrame.[\"International Plan\", \"State\"] \n",
    "uniqueColumnValues = dataFrame.State.unique() \n",
    "\n",
    "ifNoShowColumn = dataFrame[dataFrame[\"International Plan\"] == \"No\"] \n",
    "ifNoAndFlaseShowColumn = dataFrame[(dataFrame[\"International Plan\"] == \"No\") & (dataFrame[\"Churn\"] == False)] \n",
    "\n",
    "theFifteenthRow = dataFrame.iloc[14] \n",
    "theTwentiethRowAndTheFourthColumn = dataFrame.iloc[19, 3] #First number is the row count, and the second number is the column count. \n",
    "theTwentiethRowThroughTheThirtiethRow = dataFrame.iloc[20:31] \n",
    "\n",
    "state = dataFrame.copy() \n",
    "state.set_index(\"State\", inplace = True) \n",
    "state.loc[\"OH\"] \n",
    "\n",
    "dropNaRows = dataFrame.dropna(inplace = True) \n",
    "missingStateColumn = dataFrame.drop(\"State\", axis = 1) #The axis represents columns or rows. 1 for columns and 2 for rows. \n",
    "dataFrame[\"Total night and international minutes\"] = dataFrame[\"Total night inutes\"] + dataFrame[\"Total intl minutes\"] #This makes a new colum containing the sum of two preexisting columns. \n",
    "dataFrame[\"Total night and international minutes\"] = 100 #This updates all the values in this column to the specified value. \n",
    "dataFrame.iloc[0, -1] = 10 #This will change the value in the first row and last column to the specified value. \n",
    "dataFrame[\"Churn Binary\"] = dataFrame[\"Churn\"].apply(lambda x: 1 if x == True else 0) #This will make a new column that has binary equivalents to the True/False values in the Churn column. \n",
    "\n",
    "dataFrame.to_csv(\"csvFile.csv\") \n",
    "dataFrame.to_json() \n",
    "dataFrame.to_html() \n",
    "\n",
    "del dataFrame"
   ]
  }
 ],
 "metadata": {
  "kernelspec": {
   "display_name": "Python 3 (ipykernel)",
   "language": "python",
   "name": "python3"
  },
  "language_info": {
   "codemirror_mode": {
    "name": "ipython",
    "version": 3
   },
   "file_extension": ".py",
   "mimetype": "text/x-python",
   "name": "python",
   "nbconvert_exporter": "python",
   "pygments_lexer": "ipython3",
   "version": "3.11.7"
  }
 },
 "nbformat": 4,
 "nbformat_minor": 5
}
